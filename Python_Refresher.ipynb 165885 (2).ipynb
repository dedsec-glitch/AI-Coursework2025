{
 "cells": [
  {
   "cell_type": "code",
   "execution_count": 3,
   "id": "3c43459f-d7ab-4838-8566-9ed9a740eb2e",
   "metadata": {},
   "outputs": [
    {
     "name": "stdin",
     "output_type": "stream",
     "text": [
      "Enter number of days 2\n"
     ]
    },
    {
     "name": "stdout",
     "output_type": "stream",
     "text": [
      "Number of seconds in 2 days is 172800\n"
     ]
    }
   ],
   "source": [
    "days = int(input(\"Enter number of days\"))\n",
    "result = 86400 * days\n",
    "print(\"Number of seconds in\",days,\"days is\",result)"
   ]
  },
  {
   "cell_type": "code",
   "execution_count": 5,
   "id": "6bc32688-2148-4ef6-9fcb-2af5cfd1899d",
   "metadata": {},
   "outputs": [
    {
     "name": "stdin",
     "output_type": "stream",
     "text": [
      "Enter the radius of the sphere 14\n"
     ]
    },
    {
     "name": "stdout",
     "output_type": "stream",
     "text": [
      "Volume of a sphere with a radius of 14 is 11495.530666666666\n"
     ]
    }
   ],
   "source": [
    "radius = int(input(\"Enter the radius of the sphere\"))\n",
    "result = (4/3) * 3.142 * (radius*radius*radius)\n",
    "print(\"Volume of a sphere with a radius of\",radius,\"is\",result)"
   ]
  },
  {
   "cell_type": "code",
   "execution_count": 7,
   "id": "7e9b3f7a-bdd1-4167-a70e-e4ac9dd6b678",
   "metadata": {},
   "outputs": [
    {
     "name": "stdin",
     "output_type": "stream",
     "text": [
      "Input the side length of the square 4\n"
     ]
    },
    {
     "name": "stdout",
     "output_type": "stream",
     "text": [
      "The perimeter of the square is:  16\n",
      "The Area of the square is:  16\n"
     ]
    }
   ],
   "source": [
    "Length = int(input(\"Input the side length of the square\"))\n",
    "Perimeter = Length *4\n",
    "Area = Length *Length\n",
    "print(\"The perimeter of the square is: \",Perimeter)\n",
    "print(\"The Area of the square is: \",Area)"
   ]
  },
  {
   "cell_type": "code",
   "execution_count": 1,
   "id": "5451138a-17be-4bee-8774-7e3e1e28a3c2",
   "metadata": {},
   "outputs": [
    {
     "name": "stdin",
     "output_type": "stream",
     "text": [
      "Enter a single character:  L\n"
     ]
    },
    {
     "name": "stdout",
     "output_type": "stream",
     "text": [
      "The character is: Uppercase\n"
     ]
    }
   ],
   "source": [
    "def check_case(char):\n",
    "    if char.isupper():\n",
    "        return \"Uppercase\"\n",
    "    elif char.islower():\n",
    "        return \"Lowercase\"\n",
    "    else:\n",
    "        return \"Not a letter\"\n",
    "\n",
    "# Get input from the user\n",
    "user_input = input(\"Enter a single character: \")\n",
    "\n",
    "# Validate input length\n",
    "if len(user_input) == 1:\n",
    "    result = check_case(user_input)\n",
    "    print(f\"The character is: {result}\")\n",
    "else:\n",
    "    print(\"Please enter exactly one character.\")"
   ]
  },
  {
   "cell_type": "code",
   "execution_count": 1,
   "id": "83cad144-764a-4e4f-896f-980f598f887a",
   "metadata": {},
   "outputs": [
    {
     "name": "stdout",
     "output_type": "stream",
     "text": [
      "1.0416666666666665\n"
     ]
    }
   ],
   "source": [
    "x = 0\n",
    "y = 20\n",
    "\n",
    "while(y>6):\n",
    "    y = y-4\n",
    "    x = 2/y+x\n",
    "print(x)"
   ]
  },
  {
   "cell_type": "code",
   "execution_count": 2,
   "id": "5bf13f58-2999-4e6d-82e5-a5e2629318ae",
   "metadata": {},
   "outputs": [
    {
     "name": "stdin",
     "output_type": "stream",
     "text": [
      "Enter value 1:  2\n",
      "Enter value 2:  3\n",
      "Enter value 3:  4\n",
      "Enter value 4:  5\n",
      "Enter value 5:  6\n"
     ]
    },
    {
     "name": "stdout",
     "output_type": "stream",
     "text": [
      "\n",
      "The average of the entered values is: 4.0\n"
     ]
    }
   ],
   "source": [
    "\n",
    "values = []\n",
    "\n",
    "\n",
    "for i in range(5):\n",
    "    num = float(input(f\"Enter value {i+1}: \"))\n",
    "    values.append(num)\n",
    "\n",
    "\n",
    "average = sum(values) / len(values)\n",
    "\n",
    "\n",
    "print(f\"\\nThe average of the entered values is: {average}\")\n"
   ]
  },
  {
   "cell_type": "code",
   "execution_count": 2,
   "id": "dbb1aa19-af72-4291-a61a-4f7005481382",
   "metadata": {},
   "outputs": [
    {
     "data": {
      "text/plain": [
       "165885"
      ]
     },
     "execution_count": 2,
     "metadata": {},
     "output_type": "execute_result"
    }
   ],
   "source": [
    "165885"
   ]
  },
  {
   "cell_type": "code",
   "execution_count": null,
   "id": "e9ddcf65-f5f2-4b24-8178-644ac6725790",
   "metadata": {},
   "outputs": [],
   "source": [
    "Ian Kambo Gathesha\n"
   ]
  }
 ],
 "metadata": {
  "kernelspec": {
   "display_name": "Python [conda env:base] *",
   "language": "python",
   "name": "conda-base-py"
  },
  "language_info": {
   "codemirror_mode": {
    "name": "ipython",
    "version": 3
   },
   "file_extension": ".py",
   "mimetype": "text/x-python",
   "name": "python",
   "nbconvert_exporter": "python",
   "pygments_lexer": "ipython3",
   "version": "3.13.5"
  }
 },
 "nbformat": 4,
 "nbformat_minor": 5
}
